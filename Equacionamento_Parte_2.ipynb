{
  "cells": [
    {
      "cell_type": "code",
      "execution_count": 1,
      "metadata": {
        "id": "6BTnEsSkEypR"
      },
      "outputs": [],
      "source": [
        "import sympy as sp\n",
        "\n",
        "from IPython.display import display"
      ]
    },
    {
      "cell_type": "code",
      "execution_count": 2,
      "metadata": {
        "id": "y8XWlBR1F0g9"
      },
      "outputs": [],
      "source": [
        "global T_ipj, T_ij, T_imj, T_ijp, T_ijm, delta_r, delta_0, r_ij, sig_a, sig_b "
      ]
    },
    {
      "cell_type": "code",
      "execution_count": 3,
      "metadata": {
        "id": "2oqBBeaIGB0I"
      },
      "outputs": [],
      "source": [
        "T_ipj, T_ij, T_imj, T_ijp, T_ijm, delta_r, delta_0, r_ij, sig_a, sig_b  = sp.symbols([\n",
        "    \"T_{i+1\\,j}\",\n",
        "    \"T_{i\\,j}\",\n",
        "    \"T_{i-1\\,j}\",\n",
        "    \"T_{i\\,j+1}\",\n",
        "    \"T_{i\\,j-1}\",\n",
        "    \"\\Delta_r\",\n",
        "    \"\\Delta_\\\\phi\",\n",
        "    \"r_{ij}\",\n",
        "    \"\\sigma_A\",\n",
        "    \"\\sigma_B\"\n",
        "    ], real=True\n",
        ")"
      ]
    },
    {
      "cell_type": "code",
      "execution_count": null,
      "metadata": {
        "id": "6TryZa6DE8f3"
      },
      "outputs": [],
      "source": [
        "def subs_in_edp(d2Vdr2, dVdr, d2Vd02):\n",
        "    return d2Vdr2 + 1/r_ij * dVdr + 1/r_ij**2 * d2Vd02\n",
        "\n",
        "def second_central_r():\n",
        "    return (T_ipj - 2 * T_ij + T_imj) / delta_r ** 2\n",
        "\n",
        "def first_central_r():\n",
        "    return (T_ipj - T_imj) / (2*delta_r)\n",
        "\n",
        "def second_central_0():\n",
        "    return (T_ijp - 2 * T_ij + T_ijm) / delta_0 ** 2\n",
        "\n",
        "def taylor_r(material='', which='prog'):\n",
        "    assert which in ['reg', 'prog']\n",
        "    # reg:  retorna o valor da expansão pro ponto i-1\n",
        "    # prog: retorna o valor da expansão pro ponto i+1\n",
        "    dVdr = sp.symbols(\"\\\\frac{\\partial\\ V}{\\\\partial\\ r}\\Bigr|^{\" + material + \"}_{i\\,j}\", real=True)\n",
        "    d2Vdr2 = sp.symbols(\"\\\\frac{\\partial^2\\ V}{\\\\partial\\ r^2}\\Bigr|^{\" + material + \"}_{i\\,j}\", real=True)\n",
        "\n",
        "    signal = 1 if which == 'prog' else -1\n",
        "\n",
        "    return (T_ij + signal * delta_r * dVdr + delta_r**2/2 * d2Vdr2, dVdr, d2Vdr2)\n",
        "\n",
        "def taylor_0(material='', which='prog'):\n",
        "    assert which in ['reg', 'prog']\n",
        "    # reg:  retorna o valor da expansão pro ponto j-1\n",
        "    # prog: retorna o valor da expansão pro ponto j+1\n",
        "    dVd0 = sp.symbols(\"\\\\frac{\\partial\\ V}{\\\\partial\\ \\phi}\\Bigr|^{\" + material + \"}_{i\\,j}\", real=True)\n",
        "    d2Vd02 = sp.symbols(\"\\\\frac{\\partial^2\\ V}{\\\\partial\\ \\phi^2}\\Bigr|^{\" + material + \"}_{i\\,j}\", real=True)\n",
        "\n",
        "    signal = 1 if which == 'prog' else -1\n",
        "\n",
        "    return (T_ij + signal * delta_0 * dVd0 + delta_0**2/2 * d2Vd02, dVd0, d2Vd02)"
      ]
    },
    {
      "cell_type": "markdown",
      "metadata": {
        "id": "JG5VMTTdOMR1"
      },
      "source": [
        "<img src=\"https://i.ibb.co/hRNQn2y/contornos.png\" width=\"500px\"/>"
      ]
    },
    {
      "cell_type": "markdown",
      "metadata": {
        "id": "b58qJRbjOqn3"
      },
      "source": [
        "# Vermelho"
      ]
    },
    {
      "cell_type": "code",
      "execution_count": null,
      "metadata": {
        "id": "sPAeNbiaGqEx"
      },
      "outputs": [],
      "source": [
        "# Dado no enunciado"
      ]
    },
    {
      "cell_type": "markdown",
      "metadata": {
        "id": "szD_4oCHEqBx"
      },
      "source": [
        "# Cinza\n",
        "\n",
        "Apenas desenvolver a EDP:\n",
        "\n",
        "1. Segunda diferença central em $r$\n",
        "2. Primeira diferença central em $r$\n",
        "3. Segunda diferença central em $\\phi$"
      ]
    },
    {
      "cell_type": "code",
      "execution_count": null,
      "metadata": {
        "id": "ohMfxqxOIIRw"
      },
      "outputs": [],
      "source": [
        "edp = subs_in_edp(second_central_r(), first_central_r(), second_central_0())\n",
        "\n",
        "eqn = sp.Eq(edp, 0)"
      ]
    },
    {
      "cell_type": "code",
      "execution_count": null,
      "metadata": {
        "colab": {
          "base_uri": "https://localhost:8080/",
          "height": 83
        },
        "id": "frfk0iXzHmff",
        "outputId": "7f158f69-0104-4dcc-c7b4-1bff90076d30"
      },
      "outputs": [
        {
          "data": {
            "text/latex": [
              "$\\displaystyle \\frac{T_{i+1,j} \\left(\\Delta_{\\phi}^{2} \\Delta_{r} r_{ij} + 2 \\Delta_{\\phi}^{2} r_{ij}^{2}\\right) + 2 T_{i,j+1} \\Delta_{r}^{2} + 2 T_{i,j-1} \\Delta_{r}^{2} + T_{i-1,j} \\left(- \\Delta_{\\phi}^{2} \\Delta_{r} r_{ij} + 2 \\Delta_{\\phi}^{2} r_{ij}^{2}\\right)}{4 \\left(\\Delta_{\\phi}^{2} r_{ij}^{2} + \\Delta_{r}^{2}\\right)}$"
            ],
            "text/plain": [
              "(T_{i+1,j}*(\\Delta_\\phi**2*\\Delta_r*r_{ij} + 2*\\Delta_\\phi**2*r_{ij}**2) + 2*T_{i,j+1}*\\Delta_r**2 + 2*T_{i,j-1}*\\Delta_r**2 + T_{i-1,j}*(-\\Delta_\\phi**2*\\Delta_r*r_{ij} + 2*\\Delta_\\phi**2*r_{ij}**2))/(4*(\\Delta_\\phi**2*r_{ij}**2 + \\Delta_r**2))"
            ]
          },
          "execution_count": 41,
          "metadata": {},
          "output_type": "execute_result"
        }
      ],
      "source": [
        "solutions = sp.solve(eqn, T_ij)\n",
        "\n",
        "assert len(solutions) == 1\n",
        "\n",
        "sp.collect(sp.factor(solutions[0]), [T_ipj, T_imj, T_ijp, T_ijm])"
      ]
    },
    {
      "cell_type": "markdown",
      "metadata": {
        "id": "7tpX-JYSPdAq"
      },
      "source": [
        "# Azul\n",
        "\n",
        "Há troca de meio, portanto deve-se:\n",
        "\n",
        "1. Expandir por Taylor regressivo até a segunda ordem (como se estivesse em um ponto de extremidade), para o material A\n",
        "\n",
        "2. Repetir o processo para o material B, mas com Taylor progressivo\n",
        "\n",
        "3. Substituir a segunda derivada parcial na EDP para cada caso\n",
        "\n",
        "4. As derivadas primeiras nas EDPs de cada caso serão desconhecidas, então igualam-se as duas equações por meio do critério de fluxo continuado"
      ]
    },
    {
      "cell_type": "code",
      "execution_count": null,
      "metadata": {
        "id": "JE2YtoAwPOH8"
      },
      "outputs": [],
      "source": [
        "# Desenvolvimento em A\n",
        "\n",
        "taylorA, dVdrA, d2Vdr2A = taylor_r('A', 'reg')\n",
        "\n",
        "solutionsA = sp.solve(sp.Eq(taylorA, T_imj), d2Vdr2A)\n",
        "\n",
        "assert len(solutionsA) == 1\n",
        "\n",
        "edpA = subs_in_edp(solutionsA[0], dVdrA, second_central_0())\n",
        "\n",
        "dVdrA_solution = sp.solve(sp.Eq(edpA, 0), dVdrA)\n",
        "\n",
        "assert len(dVdrA_solution) == 1\n",
        "\n",
        "dVdrA_value = dVdrA_solution[0]"
      ]
    },
    {
      "cell_type": "code",
      "execution_count": null,
      "metadata": {
        "id": "Ho17sUBqhoED"
      },
      "outputs": [],
      "source": [
        "# Desenvolvimento em B\n",
        "\n",
        "taylorB, dVdrB, d2Vdr2B = taylor_r('B', 'prog')\n",
        "\n",
        "solutionsB = sp.solve(sp.Eq(taylorB, T_ipj), d2Vdr2B)\n",
        "\n",
        "assert len(solutionsB) == 1\n",
        "\n",
        "edpB = subs_in_edp(solutionsB[0], dVdrB, second_central_0())\n",
        "\n",
        "dVdrB_solution = sp.solve(sp.Eq(edpB, 0), dVdrB)\n",
        "\n",
        "assert len(dVdrB_solution) == 1\n",
        "\n",
        "dVdrB_value = dVdrB_solution[0]"
      ]
    },
    {
      "cell_type": "code",
      "execution_count": null,
      "metadata": {
        "colab": {
          "base_uri": "https://localhost:8080/",
          "height": 83
        },
        "id": "fT0MTzoQkba6",
        "outputId": "f36d431c-094b-471f-8918-1b468ce5a0a8"
      },
      "outputs": [
        {
          "data": {
            "text/latex": [
              "$\\displaystyle - \\frac{T_{i+1,j} \\left(2 \\Delta_{\\phi}^{2} \\Delta_{r} \\sigma_{B} r_{ij}^{2} + 4 \\Delta_{\\phi}^{2} \\sigma_{B} r_{ij}^{3}\\right) + T_{i,j+1} \\left(- \\Delta_{r}^{3} \\sigma_{A} + \\Delta_{r}^{3} \\sigma_{B} + 2 \\Delta_{r}^{2} \\sigma_{A} r_{ij} + 2 \\Delta_{r}^{2} \\sigma_{B} r_{ij}\\right) + T_{i,j-1} \\left(- \\Delta_{r}^{3} \\sigma_{A} + \\Delta_{r}^{3} \\sigma_{B} + 2 \\Delta_{r}^{2} \\sigma_{A} r_{ij} + 2 \\Delta_{r}^{2} \\sigma_{B} r_{ij}\\right) + T_{i-1,j} \\left(- 2 \\Delta_{\\phi}^{2} \\Delta_{r} \\sigma_{A} r_{ij}^{2} + 4 \\Delta_{\\phi}^{2} \\sigma_{A} r_{ij}^{3}\\right)}{2 \\left(\\Delta_{\\phi}^{2} r_{ij}^{2} + \\Delta_{r}^{2}\\right) \\left(\\Delta_{r} \\sigma_{A} - \\Delta_{r} \\sigma_{B} - 2 \\sigma_{A} r_{ij} - 2 \\sigma_{B} r_{ij}\\right)}$"
            ],
            "text/plain": [
              "-(T_{i+1,j}*(2*\\Delta_\\phi**2*\\Delta_r*\\sigma_B*r_{ij}**2 + 4*\\Delta_\\phi**2*\\sigma_B*r_{ij}**3) + T_{i,j+1}*(-\\Delta_r**3*\\sigma_A + \\Delta_r**3*\\sigma_B + 2*\\Delta_r**2*\\sigma_A*r_{ij} + 2*\\Delta_r**2*\\sigma_B*r_{ij}) + T_{i,j-1}*(-\\Delta_r**3*\\sigma_A + \\Delta_r**3*\\sigma_B + 2*\\Delta_r**2*\\sigma_A*r_{ij} + 2*\\Delta_r**2*\\sigma_B*r_{ij}) + T_{i-1,j}*(-2*\\Delta_\\phi**2*\\Delta_r*\\sigma_A*r_{ij}**2 + 4*\\Delta_\\phi**2*\\sigma_A*r_{ij}**3))/(2*(\\Delta_\\phi**2*r_{ij}**2 + \\Delta_r**2)*(\\Delta_r*\\sigma_A - \\Delta_r*\\sigma_B - 2*\\sigma_A*r_{ij} - 2*\\sigma_B*r_{ij}))"
            ]
          },
          "execution_count": 35,
          "metadata": {},
          "output_type": "execute_result"
        }
      ],
      "source": [
        "# Fluxo continuado\n",
        "\n",
        "solutions = sp.solve(sp.Eq(dVdrA_value * sig_a, dVdrB_value * sig_b), T_ij)\n",
        "\n",
        "assert len(solutions) == 1\n",
        "\n",
        "sp.collect(sp.factor(solutions[0]), [T_ipj, T_imj, T_ijp, T_ijm])"
      ]
    },
    {
      "cell_type": "markdown",
      "metadata": {
        "id": "wPPJvpWD0DbI"
      },
      "source": [
        "# Verde\n",
        "\n",
        "Análogo ao anterior:\n",
        "\n",
        "1. Taylor regressivo em B\n",
        "\n",
        "2. Taylor progressivo em A\n",
        "\n",
        "3. Substituir e igualar equações"
      ]
    },
    {
      "cell_type": "code",
      "execution_count": null,
      "metadata": {
        "id": "EPYnhb-Xmo3h"
      },
      "outputs": [],
      "source": [
        "# Desenvolvimento em B\n",
        "\n",
        "taylorB, dVdrB, d2Vdr2B = taylor_r('B', 'reg')\n",
        "\n",
        "solutionsB = sp.solve(sp.Eq(taylorB, T_imj), d2Vdr2B)\n",
        "\n",
        "assert len(solutionsB) == 1\n",
        "\n",
        "edpB = subs_in_edp(solutionsB[0], dVdrB, second_central_0())\n",
        "\n",
        "dVdrB_solution = sp.solve(sp.Eq(edpB, 0), dVdrB)\n",
        "\n",
        "assert len(dVdrB_solution) == 1\n",
        "\n",
        "dVdrB_value = dVdrB_solution[0]"
      ]
    },
    {
      "cell_type": "code",
      "execution_count": null,
      "metadata": {
        "id": "8j0lyVea0yIQ"
      },
      "outputs": [],
      "source": [
        "# Desenvolvimento em A\n",
        "\n",
        "taylorA, dVdrA, d2Vdr2A = taylor_r('A', 'prog')\n",
        "\n",
        "solutionsA = sp.solve(sp.Eq(taylorA, T_ipj), d2Vdr2A)\n",
        "\n",
        "assert len(solutionsA) == 1\n",
        "\n",
        "edpA = subs_in_edp(solutionsA[0], dVdrA, second_central_0())\n",
        "\n",
        "dVdrA_solution = sp.solve(sp.Eq(edpA, 0), dVdrA)\n",
        "\n",
        "assert len(dVdrA_solution) == 1\n",
        "\n",
        "dVdrA_value = dVdrA_solution[0]"
      ]
    },
    {
      "cell_type": "code",
      "execution_count": null,
      "metadata": {
        "colab": {
          "base_uri": "https://localhost:8080/",
          "height": 83
        },
        "id": "QFY9MCsA05D7",
        "outputId": "0a53ef25-acd9-43b6-bc84-fed5f3fdaa6d"
      },
      "outputs": [
        {
          "data": {
            "text/latex": [
              "$\\displaystyle \\frac{T_{i+1,j} \\left(2 \\Delta_{\\phi}^{2} \\Delta_{r} \\sigma_{A} r_{ij}^{2} + 4 \\Delta_{\\phi}^{2} \\sigma_{A} r_{ij}^{3}\\right) + T_{i,j+1} \\left(\\Delta_{r}^{3} \\sigma_{A} - \\Delta_{r}^{3} \\sigma_{B} + 2 \\Delta_{r}^{2} \\sigma_{A} r_{ij} + 2 \\Delta_{r}^{2} \\sigma_{B} r_{ij}\\right) + T_{i,j-1} \\left(\\Delta_{r}^{3} \\sigma_{A} - \\Delta_{r}^{3} \\sigma_{B} + 2 \\Delta_{r}^{2} \\sigma_{A} r_{ij} + 2 \\Delta_{r}^{2} \\sigma_{B} r_{ij}\\right) + T_{i-1,j} \\left(- 2 \\Delta_{\\phi}^{2} \\Delta_{r} \\sigma_{B} r_{ij}^{2} + 4 \\Delta_{\\phi}^{2} \\sigma_{B} r_{ij}^{3}\\right)}{2 \\left(\\Delta_{\\phi}^{2} r_{ij}^{2} + \\Delta_{r}^{2}\\right) \\left(\\Delta_{r} \\sigma_{A} - \\Delta_{r} \\sigma_{B} + 2 \\sigma_{A} r_{ij} + 2 \\sigma_{B} r_{ij}\\right)}$"
            ],
            "text/plain": [
              "(T_{i+1,j}*(2*\\Delta_\\phi**2*\\Delta_r*\\sigma_A*r_{ij}**2 + 4*\\Delta_\\phi**2*\\sigma_A*r_{ij}**3) + T_{i,j+1}*(\\Delta_r**3*\\sigma_A - \\Delta_r**3*\\sigma_B + 2*\\Delta_r**2*\\sigma_A*r_{ij} + 2*\\Delta_r**2*\\sigma_B*r_{ij}) + T_{i,j-1}*(\\Delta_r**3*\\sigma_A - \\Delta_r**3*\\sigma_B + 2*\\Delta_r**2*\\sigma_A*r_{ij} + 2*\\Delta_r**2*\\sigma_B*r_{ij}) + T_{i-1,j}*(-2*\\Delta_\\phi**2*\\Delta_r*\\sigma_B*r_{ij}**2 + 4*\\Delta_\\phi**2*\\sigma_B*r_{ij}**3))/(2*(\\Delta_\\phi**2*r_{ij}**2 + \\Delta_r**2)*(\\Delta_r*\\sigma_A - \\Delta_r*\\sigma_B + 2*\\sigma_A*r_{ij} + 2*\\sigma_B*r_{ij}))"
            ]
          },
          "execution_count": 31,
          "metadata": {},
          "output_type": "execute_result"
        }
      ],
      "source": [
        "# Fluxo continuado\n",
        "\n",
        "solutions = sp.solve(sp.Eq(dVdrA_value * sig_a, dVdrB_value * sig_b), T_ij)\n",
        "\n",
        "assert len(solutions) == 1\n",
        "\n",
        "sp.collect(sp.factor(solutions[0]), [T_ipj, T_imj, T_ijp, T_ijm])"
      ]
    },
    {
      "cell_type": "markdown",
      "metadata": {
        "id": "JGcMrECd1Sf4"
      },
      "source": [
        "# Rosa\n"
      ]
    },
    {
      "cell_type": "code",
      "execution_count": null,
      "metadata": {
        "id": "HDOfAw6R1ELz"
      },
      "outputs": [],
      "source": [
        "# Dado no enunciado"
      ]
    },
    {
      "cell_type": "markdown",
      "metadata": {
        "id": "ZRKWPGy6mSq5"
      },
      "source": [
        "# Roxo\n",
        "\n",
        "Análogo ao anterior, mas para $\\phi$\n",
        "\n",
        "1. Taylor regressivo em B\n",
        "\n",
        "2. Taylor progressivo em A\n",
        "\n",
        "3. Igualar equações\n",
        "\n",
        "**Obs:** ocorreu uma corrreção do enunciado $\\partial V / \\partial n \\ne 0$ es for contorno interno"
      ]
    },
    {
      "cell_type": "code",
      "execution_count": null,
      "metadata": {
        "id": "uCQfB4iHjctt"
      },
      "outputs": [],
      "source": [
        "# Desenvolvimento em B\n",
        "\n",
        "taylor_exp_B, dVd0B, d2Vd02B = taylor_0(material='B', which='reg')\n",
        "\n",
        "d2Vd02_solutions_B = sp.solve(sp.Eq(T_ijm, taylor_exp_B), d2Vd02B)\n",
        "\n",
        "assert len(d2Vd02_solutions_B) == 1\n",
        "\n",
        "d2Vd02_value_B = d2Vd02_solutions_B[0]\n",
        "\n",
        "edpB = subs_in_edp(second_central_r(), first_central_r(), d2Vd02_value_B)\n",
        "\n",
        "dVd0B_solution = sp.solve(sp.Eq(edpB, 0), dVd0B)\n",
        "\n",
        "assert len(dVd0B_solution) == 1\n",
        "\n",
        "dVd0B_value = dVd0B_solution[0]"
      ]
    },
    {
      "cell_type": "code",
      "execution_count": null,
      "metadata": {
        "id": "zfhuNWGJuKDF"
      },
      "outputs": [],
      "source": [
        "# Desenvolvimento em A\n",
        "\n",
        "taylor_exp_A, dVd0A, d2Vd02A = taylor_0(material='A', which='prog')\n",
        "\n",
        "d2Vd02_solutions_A = sp.solve(sp.Eq(taylor_exp_A, T_ijp), d2Vd02A)\n",
        "\n",
        "assert len(d2Vd02_solutions_A) == 1\n",
        "\n",
        "d2Vd02_value_A = d2Vd02_solutions_A[0]\n",
        "\n",
        "edpA = subs_in_edp(second_central_r(), first_central_r(), d2Vd02_value_A)\n",
        "\n",
        "dVd0A_solution = sp.solve(sp.Eq(edpA, 0), dVd0A)\n",
        "\n",
        "assert len(dVd0A_solution) == 1\n",
        "\n",
        "dVd0A_value = dVd0A_solution[0]"
      ]
    },
    {
      "cell_type": "code",
      "execution_count": null,
      "metadata": {
        "colab": {
          "base_uri": "https://localhost:8080/",
          "height": 83
        },
        "id": "d44Vs6BmuLrH",
        "outputId": "babf10be-371f-4063-cd86-9f0f4fb0f35f"
      },
      "outputs": [
        {
          "data": {
            "text/latex": [
              "$\\displaystyle \\frac{T_{i+1,j} \\left(\\Delta_{\\phi}^{2} \\Delta_{r} \\sigma_{A} r_{ij} + \\Delta_{\\phi}^{2} \\Delta_{r} \\sigma_{B} r_{ij} + 2 \\Delta_{\\phi}^{2} \\sigma_{A} r_{ij}^{2} + 2 \\Delta_{\\phi}^{2} \\sigma_{B} r_{ij}^{2}\\right) + 4 T_{i,j+1} \\Delta_{r}^{2} \\sigma_{A} + 4 T_{i,j-1} \\Delta_{r}^{2} \\sigma_{B} + T_{i-1,j} \\left(- \\Delta_{\\phi}^{2} \\Delta_{r} \\sigma_{A} r_{ij} - \\Delta_{\\phi}^{2} \\Delta_{r} \\sigma_{B} r_{ij} + 2 \\Delta_{\\phi}^{2} \\sigma_{A} r_{ij}^{2} + 2 \\Delta_{\\phi}^{2} \\sigma_{B} r_{ij}^{2}\\right)}{4 \\left(\\sigma_{A} + \\sigma_{B}\\right) \\left(\\Delta_{\\phi}^{2} r_{ij}^{2} + \\Delta_{r}^{2}\\right)}$"
            ],
            "text/plain": [
              "(T_{i+1,j}*(\\Delta_\\phi**2*\\Delta_r*\\sigma_A*r_{ij} + \\Delta_\\phi**2*\\Delta_r*\\sigma_B*r_{ij} + 2*\\Delta_\\phi**2*\\sigma_A*r_{ij}**2 + 2*\\Delta_\\phi**2*\\sigma_B*r_{ij}**2) + 4*T_{i,j+1}*\\Delta_r**2*\\sigma_A + 4*T_{i,j-1}*\\Delta_r**2*\\sigma_B + T_{i-1,j}*(-\\Delta_\\phi**2*\\Delta_r*\\sigma_A*r_{ij} - \\Delta_\\phi**2*\\Delta_r*\\sigma_B*r_{ij} + 2*\\Delta_\\phi**2*\\sigma_A*r_{ij}**2 + 2*\\Delta_\\phi**2*\\sigma_B*r_{ij}**2))/(4*(\\sigma_A + \\sigma_B)*(\\Delta_\\phi**2*r_{ij}**2 + \\Delta_r**2))"
            ]
          },
          "execution_count": 28,
          "metadata": {},
          "output_type": "execute_result"
        }
      ],
      "source": [
        "# Fluxo continuado\n",
        "\n",
        "solutions = sp.solve(sp.Eq(dVd0A_value * sig_a, dVd0B_value * sig_b), T_ij)\n",
        "\n",
        "assert len(solutions) == 1\n",
        "\n",
        "sp.collect(sp.factor(solutions[0]), [T_ipj, T_imj, T_ijp, T_ijm])"
      ]
    },
    {
      "cell_type": "markdown",
      "metadata": {
        "id": "_EGEVm86KBms"
      },
      "source": [
        "# Laranja\n",
        "\n",
        "1. Expandir por Taylor regressivo até segunda ordem para $\\phi$\n",
        "\n",
        "2. Utilizar a condição de contorno dada no enunciado: $\\partial V / \\partial \\phi = 0$\n",
        "\n",
        "3. Substituir na EDP"
      ]
    },
    {
      "cell_type": "code",
      "execution_count": null,
      "metadata": {
        "colab": {
          "base_uri": "https://localhost:8080/",
          "height": 83
        },
        "id": "BsvbdKRWKDW7",
        "outputId": "e69f61c0-dd7f-4ff9-d8ae-c6d9de43e90c"
      },
      "outputs": [
        {
          "data": {
            "text/latex": [
              "$\\displaystyle \\frac{T_{i+1,j} \\left(\\Delta_{\\phi}^{2} \\Delta_{r} r_{ij} + 2 \\Delta_{\\phi}^{2} r_{ij}^{2}\\right) + 4 T_{i,j-1} \\Delta_{r}^{2} + T_{i-1,j} \\left(- \\Delta_{\\phi}^{2} \\Delta_{r} r_{ij} + 2 \\Delta_{\\phi}^{2} r_{ij}^{2}\\right)}{4 \\left(\\Delta_{\\phi}^{2} r_{ij}^{2} + \\Delta_{r}^{2}\\right)}$"
            ],
            "text/plain": [
              "(T_{i+1,j}*(\\Delta_\\phi**2*\\Delta_r*r_{ij} + 2*\\Delta_\\phi**2*r_{ij}**2) + 4*T_{i,j-1}*\\Delta_r**2 + T_{i-1,j}*(-\\Delta_\\phi**2*\\Delta_r*r_{ij} + 2*\\Delta_\\phi**2*r_{ij}**2))/(4*(\\Delta_\\phi**2*r_{ij}**2 + \\Delta_r**2))"
            ]
          },
          "execution_count": 42,
          "metadata": {},
          "output_type": "execute_result"
        }
      ],
      "source": [
        "taylor_exp, dVd0, d2Vd02 = taylor_0(material='', which='reg')\n",
        "\n",
        "taylor_0_eqn = sp.Eq(T_ijm, taylor_exp.subs({dVd0 : 0}))\n",
        "\n",
        "d2Vd02_solutions = sp.solve(taylor_0_eqn, d2Vd02)\n",
        "\n",
        "assert len(d2Vd02_solutions) == 1\n",
        "\n",
        "d2Vd02_value = d2Vd02_solutions[0]\n",
        "\n",
        "edp = subs_in_edp(second_central_r(), first_central_r(), d2Vd02_value)\n",
        "\n",
        "solutions = sp.solve(sp.Eq(edp, 0), T_ij)\n",
        "\n",
        "assert len(solutions) == 1\n",
        "\n",
        "sp.collect(sp.factor(solutions[0]), [T_ipj, T_imj, T_ijp, T_ijm])"
      ]
    },
    {
      "cell_type": "code",
      "execution_count": null,
      "metadata": {
        "id": "wGupZfQAAPkb"
      },
      "outputs": [],
      "source": []
    }
  ],
  "metadata": {
    "colab": {
      "name": "Equacionamento - Parte 2.ipynb",
      "provenance": []
    },
    "interpreter": {
      "hash": "31f2aee4e71d21fbe5cf8b01ff0e069b9275f58929596ceb00d14d90e3e16cd6"
    },
    "kernelspec": {
      "display_name": "Python 3.10.4 64-bit",
      "language": "python",
      "name": "python3"
    },
    "language_info": {
      "codemirror_mode": {
        "name": "ipython",
        "version": 3
      },
      "file_extension": ".py",
      "mimetype": "text/x-python",
      "name": "python",
      "nbconvert_exporter": "python",
      "pygments_lexer": "ipython3",
      "version": "3.10.4"
    }
  },
  "nbformat": 4,
  "nbformat_minor": 0
}
